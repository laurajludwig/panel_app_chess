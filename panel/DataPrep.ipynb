{
 "cells": [
  {
   "cell_type": "markdown",
   "id": "74a7fe95-0c67-4c0c-b7c1-ba64532678e2",
   "metadata": {},
   "source": [
    "## Data Prep Pipeline\n",
    "This notebook is the pipeline that generates the clean data set for the Grandmaster Migration Data App. "
   ]
  },
  {
   "cell_type": "code",
   "execution_count": 1,
   "id": "1b0b5f28-c32c-4159-9899-9818503a5d6c",
   "metadata": {},
   "outputs": [],
   "source": [
    "## import packages\n",
    "import pandas as pd\n",
    "import geopandas as gpd\n",
    "import numpy as np"
   ]
  },
  {
   "cell_type": "code",
   "execution_count": 2,
   "id": "263ad91d-d211-40a0-bf14-562a715a12ab",
   "metadata": {
    "tags": []
   },
   "outputs": [],
   "source": [
    "## read data\n",
    "data = pd.read_csv('../data/combined/finish.dat', names=['yr_month', 'geo', 'count'])"
   ]
  },
  {
   "cell_type": "code",
   "execution_count": 3,
   "id": "8d8ddb41-b92f-47d4-95cd-75e1802191a8",
   "metadata": {
    "tags": []
   },
   "outputs": [
    {
     "data": {
      "text/html": [
       "<div>\n",
       "<style scoped>\n",
       "    .dataframe tbody tr th:only-of-type {\n",
       "        vertical-align: middle;\n",
       "    }\n",
       "\n",
       "    .dataframe tbody tr th {\n",
       "        vertical-align: top;\n",
       "    }\n",
       "\n",
       "    .dataframe thead th {\n",
       "        text-align: right;\n",
       "    }\n",
       "</style>\n",
       "<table border=\"1\" class=\"dataframe\">\n",
       "  <thead>\n",
       "    <tr style=\"text-align: right;\">\n",
       "      <th></th>\n",
       "      <th>yr_month</th>\n",
       "      <th>geo</th>\n",
       "      <th>count</th>\n",
       "      <th>year</th>\n",
       "      <th>month</th>\n",
       "      <th>quarter</th>\n",
       "      <th>label_friendly</th>\n",
       "    </tr>\n",
       "  </thead>\n",
       "  <tbody>\n",
       "    <tr>\n",
       "      <th>0</th>\n",
       "      <td>200101</td>\n",
       "      <td>ARM</td>\n",
       "      <td>3</td>\n",
       "      <td>2001</td>\n",
       "      <td>1</td>\n",
       "      <td>Q1</td>\n",
       "      <td>2001-Q1</td>\n",
       "    </tr>\n",
       "    <tr>\n",
       "      <th>1</th>\n",
       "      <td>200101</td>\n",
       "      <td>BEL</td>\n",
       "      <td>1</td>\n",
       "      <td>2001</td>\n",
       "      <td>1</td>\n",
       "      <td>Q1</td>\n",
       "      <td>2001-Q1</td>\n",
       "    </tr>\n",
       "    <tr>\n",
       "      <th>2</th>\n",
       "      <td>200101</td>\n",
       "      <td>BIH</td>\n",
       "      <td>2</td>\n",
       "      <td>2001</td>\n",
       "      <td>1</td>\n",
       "      <td>Q1</td>\n",
       "      <td>2001-Q1</td>\n",
       "    </tr>\n",
       "    <tr>\n",
       "      <th>3</th>\n",
       "      <td>200101</td>\n",
       "      <td>BLR</td>\n",
       "      <td>1</td>\n",
       "      <td>2001</td>\n",
       "      <td>1</td>\n",
       "      <td>Q1</td>\n",
       "      <td>2001-Q1</td>\n",
       "    </tr>\n",
       "    <tr>\n",
       "      <th>4</th>\n",
       "      <td>200101</td>\n",
       "      <td>BRA</td>\n",
       "      <td>1</td>\n",
       "      <td>2001</td>\n",
       "      <td>1</td>\n",
       "      <td>Q1</td>\n",
       "      <td>2001-Q1</td>\n",
       "    </tr>\n",
       "  </tbody>\n",
       "</table>\n",
       "</div>"
      ],
      "text/plain": [
       "   yr_month  geo  count  year  month quarter label_friendly\n",
       "0    200101  ARM      3  2001      1      Q1        2001-Q1\n",
       "1    200101  BEL      1  2001      1      Q1        2001-Q1\n",
       "2    200101  BIH      2  2001      1      Q1        2001-Q1\n",
       "3    200101  BLR      1  2001      1      Q1        2001-Q1\n",
       "4    200101  BRA      1  2001      1      Q1        2001-Q1"
      ]
     },
     "execution_count": 3,
     "metadata": {},
     "output_type": "execute_result"
    }
   ],
   "source": [
    "# strip whitespace from geography\n",
    "data['geo'] = data['geo'].str.strip()\n",
    "\n",
    "# splitting out year and month.\n",
    "data['yr_month_str'] = data['yr_month'].map(str)\n",
    "data['year']=data['yr_month_str'].str.slice(stop=4)\n",
    "data['month'] = data['yr_month_str'].str.slice(start=4)\n",
    "\n",
    "conditions = [\n",
    "    data['month'].isin(['01','02','03']),\n",
    "    data['month'].isin(['04','05','06']),\n",
    "    data['month'].isin(['07','08','09']),\n",
    "    data['month'].isin(['10','11','12'])]\n",
    "choices = ['Q1','Q2','Q3','Q4']\n",
    "data['quarter'] = np.select(conditions,choices, default=0)\n",
    "\n",
    "data['label_friendly'] = data['year']+'-'+data['quarter']\n",
    "data.drop(labels=['yr_month_str'], axis=1, inplace=True)\n",
    "data[['year', 'month']] = data[['year', 'month']].apply(pd.to_numeric)\n",
    "data.head()"
   ]
  },
  {
   "cell_type": "code",
   "execution_count": 4,
   "id": "b849ce19-6532-4c73-bc77-a63fb43f94d4",
   "metadata": {
    "tags": []
   },
   "outputs": [
    {
     "name": "stderr",
     "output_type": "stream",
     "text": [
      "C:\\Users\\laura\\AppData\\Local\\Temp\\ipykernel_24540\\246622495.py:2: FutureWarning: The geopandas.dataset module is deprecated and will be removed in GeoPandas 1.0. You can get the original 'naturalearth_lowres' data from https://www.naturalearthdata.com/downloads/110m-cultural-vectors/.\n",
      "  worldmap = gpd.read_file(gpd.datasets.get_path('naturalearth_lowres'))\n"
     ]
    }
   ],
   "source": [
    "#read geography shapess\n",
    "worldmap = gpd.read_file(gpd.datasets.get_path('naturalearth_lowres'))"
   ]
  },
  {
   "cell_type": "code",
   "execution_count": 5,
   "id": "e172330e-6727-4c82-8829-a34c9c1d75b5",
   "metadata": {
    "tags": []
   },
   "outputs": [],
   "source": [
    "def calculate_center(df):\n",
    "    \"\"\"\n",
    "    Calculate the centre of a geometry\n",
    "\n",
    "    This method first converts to a planar crs, gets the centroid\n",
    "    then converts back to the original crs. This gives a more\n",
    "    accurate\n",
    "    \"\"\"\n",
    "    original_crs = df.crs\n",
    "    planar_crs = 'EPSG:3857'\n",
    "    return df['geometry'].to_crs(planar_crs).centroid.to_crs(original_crs)\n",
    "\n",
    "worldmap[\"center\"] = calculate_center(worldmap)\n",
    "worldmap[\"Longitude\"] = [val.x for val in worldmap.center]\n",
    "worldmap[\"Latitude\"] = [val.y for val in worldmap.center]"
   ]
  },
  {
   "cell_type": "code",
   "execution_count": 7,
   "id": "cc4c186c-c131-4c1a-99dc-676533f7863a",
   "metadata": {
    "jupyter": {
     "source_hidden": true
    }
   },
   "outputs": [],
   "source": [
    "# country codes that do not correspond to ISO countries, and represents outliers\n",
    "rm_dict = {'DAI', 'HAO','HUA','IAN','MAX','YUE','JAN','SON','JON','RAY','QUN','FID','JUN'}\n",
    "\n",
    "# country codes that do not correspond to ISO countries, and represent useful data (non outliers)\n",
    "fr_dict = {'SAM': 'WSM',\n",
    "'BUL': 'BGR',\n",
    "'CHI': 'CHL',\n",
    "'CRO': 'HRV', \n",
    "'DEN': 'DNK',\n",
    "'ENG': 'GBR',\n",
    "'GER': 'DEU',\n",
    "'GRE': 'GRC',\n",
    "'IRI': 'IRN',\n",
    "'LAT': 'LVA',\n",
    "'NED': 'NLD',\n",
    "'PAR': 'PRY',\n",
    "'PHI': 'PHL',\n",
    "'ROM': 'ROU',\n",
    "'SCG': 'SRB',\n",
    "'SGP': 'SGP',\n",
    "'SIN': 'SGP',\n",
    "'SLO': 'SVN',\n",
    "'SUI': 'CHE',\n",
    "'UAE': 'ARE',\n",
    "'URU': 'URY',\n",
    "'VIE': 'VNM',\n",
    "'VAN': 'VUT'}\n"
   ]
  },
  {
   "cell_type": "code",
   "execution_count": 8,
   "id": "891458ed-5c1e-4aee-9d16-8212a4cdfb9c",
   "metadata": {},
   "outputs": [],
   "source": [
    "data.replace({'geo': fr_dict}, inplace=True)"
   ]
  },
  {
   "cell_type": "code",
   "execution_count": 9,
   "id": "e3eb5317-c74e-4c17-82dc-aed50ae1162e",
   "metadata": {
    "tags": []
   },
   "outputs": [],
   "source": [
    "#join worldmap to data\n",
    "full_data = pd.merge(data, worldmap, left_on='geo', right_on='iso_a3', how='left')"
   ]
  },
  {
   "cell_type": "code",
   "execution_count": 10,
   "id": "a0a308ea-4436-42ec-bfbf-effe1c0aa848",
   "metadata": {},
   "outputs": [],
   "source": [
    "# manual updates for small countries that were missing from the lowres dataset\n",
    "full_data.loc[full_data.geo == \"WSM\", ['name', 'iso_a3', 'Longitude', 'Latitude']] = 'Samoa', 'WSM' , 172.1046, -13.7590\n",
    "full_data.loc[full_data.geo == \"SGP\", ['name', 'iso_a3', 'Longitude', 'Latitude']] = 'Singapore', 'SGP' , 103.8198, 1.3521\n",
    "\n",
    "# manual updates for distributed countries where the centroid is not representative on the map\n",
    "full_data.loc[full_data.geo == \"USA\", ['Longitude', 'Latitude']] =  -94.5786, 39.0997\n",
    "full_data.loc[full_data.geo == \"CAN\", ['Longitude', 'Latitude']] =  -101.3023, 57.5212\n"
   ]
  },
  {
   "cell_type": "code",
   "execution_count": 11,
   "id": "ec22999b-8012-4985-9d6e-c48e1fcd80e2",
   "metadata": {},
   "outputs": [],
   "source": [
    "full_data = full_data.dropna(how='any').reset_index(drop=True)"
   ]
  },
  {
   "cell_type": "code",
   "execution_count": 12,
   "id": "03d0140b-d19d-4c12-b0b5-1bf20aa67758",
   "metadata": {},
   "outputs": [],
   "source": [
    "df=full_data[['label_friendly', 'count', 'month', 'year', 'name', 'Longitude', 'Latitude']].copy()"
   ]
  },
  {
   "cell_type": "code",
   "execution_count": 13,
   "id": "c7d950b7-2669-4efe-b051-dbd8d13481c4",
   "metadata": {},
   "outputs": [],
   "source": [
    "df.to_csv('clean_data.csv', index=False)"
   ]
  }
 ],
 "metadata": {
  "kernelspec": {
   "display_name": "Python 3 (ipykernel)",
   "language": "python",
   "name": "python3"
  },
  "language_info": {
   "codemirror_mode": {
    "name": "ipython",
    "version": 3
   },
   "file_extension": ".py",
   "mimetype": "text/x-python",
   "name": "python",
   "nbconvert_exporter": "python",
   "pygments_lexer": "ipython3",
   "version": "3.10.11"
  }
 },
 "nbformat": 4,
 "nbformat_minor": 5
}
